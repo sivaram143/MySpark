{
 "cells": [
  {
   "cell_type": "markdown",
   "metadata": {},
   "source": [
    "## Dataframe and Spark SQL"
   ]
  },
  {
   "cell_type": "markdown",
   "metadata": {},
   "source": [
    "There are two ways of create Spark Dataframes\n",
    "1. Create from an existing RDD\n",
    "2. Create from other data sources"
   ]
  },
  {
   "cell_type": "markdown",
   "metadata": {},
   "source": [
    "Creating DataFrames from Existing RDD:\n",
    "1. Infer schema by Reflection\n",
    "      - Convert RDD containing case classes.\n",
    "      - Use when schema is known.\n",
    "2. Construct schema programmatically\n",
    "      - Schema is dynamic\n",
    "      - Number of fields in case class is more than 22 fields."
   ]
  },
  {
   "cell_type": "markdown",
   "metadata": {},
   "source": [
    "#### Inferring the Schema Using Reflection"
   ]
  },
  {
   "cell_type": "code",
   "execution_count": 4,
   "metadata": {
    "collapsed": false
   },
   "outputs": [
    {
     "name": "stdout",
     "output_type": "stream",
     "text": [
      "+--------------------+--------------------+----------+--------------------+--------------------+--------------------+--------------------+--------------------+----------+------------------+--------------+--------------------+\n",
      "|            Category|            Descript|IncidntNum|                   X|                   Y|             address|                date|                 day|  district|          location|    resolution|                time|\n",
      "+--------------------+--------------------+----------+--------------------+--------------------+--------------------+--------------------+--------------------+----------+------------------+--------------+--------------------+\n",
      "|            Category|            Descript|IncidntNum|                   X|                   Y|             Address|                Date|           DayOfWeek|PdDistrict|          Location|    Resolution|                Time|\n",
      "|             ASSAULT|             BATTERY| 050436712|   -122.435002864271|    37.7608878061245| 18TH ST / CASTRO ST|04/20/2005 12:00:...|           Wednesday|   MISSION|\"(37.7608878061245|          NONE|               04:00|\n",
      "|       LARCENY/THEFT|GRAND THEFT FROM ...| 080049078|   -122.446837820235|    37.7622550270122|1100 Block of CLA...|01/13/2008 12:00:...|              Sunday|      PARK|\"(37.7622550270122|          NONE|               18:00|\n",
      "|             ASSAULT|AGGRAVATED ASSAUL...| 130366639|0 Block of SGTJOH...|   -122.444707063455|             BOOKED\"|05/05/2013 12:00:...|              Sunday| INGLESIDE|  37.7249307267936|       \"ARREST|               04:10|\n",
      "|DRIVING UNDER THE...|DRIVING WHILE UND...| 030810835|  MASON ST / TURK ST|   -122.408953598286|             BOOKED\"|07/08/2003 12:00:...|             Tuesday|  SOUTHERN|  37.7832878735491|       \"ARREST|               01:00|\n",
      "|      OTHER OFFENSES|TRAFFIC VIOLATION...| 130839567|TURK ST / LEAVENW...|   -122.414056291891|             BOOKED\"|10/04/2013 12:00:...|              Friday|TENDERLOIN|  37.7827931071006|       \"ARREST|               20:53|\n",
      "|            BURGLARY|\"BURGLARY OF APAR...| 070838580|3100 Block of FRA...|   -122.426730544229|                NONE|             Tuesday|     UNLAWFUL ENTRY\"|     07:00|  37.8034674969672|      NORTHERN|08/14/2007 12:00:...|\n",
      "|       DRUG/NARCOTIC|POSSESSION OF MAR...| 080233102|MISSION ST / PERS...|    -122.43597721703|              CITED\"|03/04/2008 12:00:...|             Tuesday| INGLESIDE|  37.7231288306727|       \"ARREST|               14:23|\n",
      "|      OTHER OFFENSES|    \"DRIVERS LICENSE| 060711805|              CITED\"|2300 Block of SAN...|             \"ARREST|           Wednesday| SUSPENDED OR REV...|     15:50| -122.447241159611|     INGLESIDE|07/05/2006 12:00:...|\n",
      "|       LARCENY/THEFT|GRAND THEFT FROM ...| 040062593|   -122.432787775164|    37.7371566745272|0 Block of MOFFIT...|12/10/2003 12:00:...|           Wednesday| INGLESIDE|\"(37.7371566745272|          NONE|               09:30|\n",
      "|        NON-CRIMINAL|\"STAY AWAY OR COU...| 110051822|600 Block of CAMP...|   -122.408761072232|                NONE|              Monday|     NON-DV RELATED\"|     15:35|  37.7159000951041|     INGLESIDE|01/17/2011 12:00:...|\n",
      "|       LARCENY/THEFT|GRAND THEFT FROM ...| 060027038|   -122.420815202607|    37.7872360476925|100 Block of HEML...|01/07/2006 12:00:...|            Saturday|  NORTHERN|\"(37.7872360476925|          NONE|               22:00|\n",
      "|       LARCENY/THEFT| PETTY THEFT BICYCLE| 110929398|   -122.416014728293|    37.7555464259209|3000 Block of 22N...|11/13/2011 12:00:...|              Sunday|   MISSION|\"(37.7555464259209|          NONE|               18:00|\n",
      "|       \"SEX OFFENSES|           FORCIBLE\"| 140196921|600 Block of LOND...|    -122.43792838007|COMPLAINANT REFUS...|              Monday|ASSAULT TO RAPE W...|     14:30|  37.7193276406568|     INGLESIDE|02/17/2014 12:00:...|\n",
      "|      SUSPICIOUS OCC|INVESTIGATIVE DET...| 120287716|   -122.421228786449|    37.7452607746654|0 Block of TIFFAN...|04/11/2012 12:00:...|           Wednesday| INGLESIDE|\"(37.7452607746654|NOT PROSECUTED|               15:10|\n",
      "|       VEHICLE THEFT|        STOLEN TRUCK| 031026982|   -122.502601064109|    37.7356121084835|2600 Block of SLO...|08/30/2003 12:00:...|            Saturday|   TARAVAL|\"(37.7356121084835|          NONE|               11:00|\n",
      "|        NON-CRIMINAL|       LOST PROPERTY| 130287706|   -122.422253299565|    37.7940917260344|1600 Block of JAC...|04/08/2013 12:00:...|              Monday|  NORTHERN|\"(37.7940917260344|          NONE|               15:15|\n",
      "|       LARCENY/THEFT|GRAND THEFT FROM ...| 096043222|   -122.508797223682|    37.7562590463517|1600 Block of GRE...|06/16/2009 12:00:...|             Tuesday|   TARAVAL|\"(37.7562590463517|          NONE|               22:00|\n",
      "|       LARCENY/THEFT|GRAND THEFT FROM ...| 060435237|   -122.420131938772|    37.7465750465073|TIFFANY AV / DUNC...|04/23/2006 12:00:...|              Sunday| INGLESIDE|\"(37.7465750465073|          NONE|               21:00|\n",
      "|      OTHER OFFENSES|          CONSPIRACY| 140902790|MISSION ST / 20TH ST|   -122.419052694349|             BOOKED\"|10/25/2014 12:00:...|            Saturday|   MISSION|  37.7586324051562|       \"ARREST|               00:01|\n",
      "+--------------------+--------------------+----------+--------------------+--------------------+--------------------+--------------------+--------------------+----------+------------------+--------------+--------------------+\n",
      "only showing top 20 rows\n",
      "\n"
     ]
    }
   ],
   "source": [
    "from pyspark.sql import SQLContext, Row \n",
    "sqlContext = SQLContext(sc) \n",
    "\n",
    "# Load a text file and convert each line to a Row.\n",
    "lines = sc.textFile(\"file:/datasets/crime_incidents.csv\") \n",
    "parts = lines.map(lambda l: l.split(\",\")) \n",
    "crime = parts.map(lambda p: Row(IncidntNum=p[0], Category =p[1], Descript=p[2], day=p[3],date=p[4],time=p[5],district=p[6],resolution=p[7],address=p[8],X=p[9],Y=p[10],location=p[11]))\n",
    "\n",
    "# Infer the schema, and register the DataFrame as a table.\n",
    "schemaCrime = sqlContext.createDataFrame(crime) \n",
    "schemaCrime.registerTempTable(\"incidents\")\n",
    "\n",
    "# SQL can be run over DataFrames that have been registered as a table.\n",
    "teenagers = sqlContext.sql(\"SELECT * from incidents\") \n",
    "teenagers.show()\n"
   ]
  },
  {
   "cell_type": "code",
   "execution_count": 8,
   "metadata": {
    "collapsed": false
   },
   "outputs": [],
   "source": [
    "#teenNames = teenagers.map(lambda p: \"Name: \" + p.name) \n",
    "#for teenName in teenNames.collect(): \n",
    "    #print(teenName)"
   ]
  },
  {
   "cell_type": "markdown",
   "metadata": {},
   "source": [
    "#### Programmatically Specifying the Schema"
   ]
  },
  {
   "cell_type": "markdown",
   "metadata": {},
   "source": [
    "A DataFrame can be created programmatically with three steps.\n",
    "- Create an RDD of tuples or lists from the original RDD;\n",
    "- Create the schema represented by a StructType matching the structure of tuples or lists in the RDD created in the step 1.\n",
    "- Apply the schema to the RDD via createDataFrame method provided by SQLContext"
   ]
  },
  {
   "cell_type": "code",
   "execution_count": 10,
   "metadata": {
    "collapsed": false
   },
   "outputs": [
    {
     "name": "stdout",
     "output_type": "stream",
     "text": [
      "root\n",
      " |-- name: string (nullable = true)\n",
      " |-- age: string (nullable = true)\n",
      "\n"
     ]
    }
   ],
   "source": [
    "# Load a text file and convert each line to a tuple.\n",
    "lines = sc.textFile(\"file:/datasets/people.txt\")\n",
    "parts = lines.map(lambda l: l.split(\",\"))\n",
    "people = parts.map(lambda p: (p[0], p[1].strip()))\n",
    "\n",
    "# The schema is encoded in a string.\n",
    "schemaString = \"name age\" \n",
    "from pyspark.sql.types import * \n",
    "fields = [StructField(field_name, StringType(), True) \n",
    "for field_name in schemaString.split()] \n",
    "schema = StructType(fields)\n",
    "\n",
    "# Apply the schema to the RDD and dataframe is created\n",
    "schemaPeople = sqlContext.createDataFrame(people, schema)\n",
    "\n",
    "# Print the schema in a tree format\n",
    "schemaPeople.printSchema()"
   ]
  },
  {
   "cell_type": "code",
   "execution_count": 11,
   "metadata": {
    "collapsed": false
   },
   "outputs": [
    {
     "name": "stdout",
     "output_type": "stream",
     "text": [
      "+-------+---+\n",
      "|   name|age|\n",
      "+-------+---+\n",
      "|Michael| 29|\n",
      "|   Andy| 30|\n",
      "| Justin| 19|\n",
      "+-------+---+\n",
      "\n"
     ]
    }
   ],
   "source": [
    "# Print the rows of the dataframe\n",
    "schemaPeople.show()"
   ]
  },
  {
   "cell_type": "code",
   "execution_count": 12,
   "metadata": {
    "collapsed": true
   },
   "outputs": [],
   "source": [
    "# Register the DataFrame as a table.\n",
    "schemaPeople.registerTempTable(\"people\")"
   ]
  },
  {
   "cell_type": "code",
   "execution_count": 13,
   "metadata": {
    "collapsed": false
   },
   "outputs": [
    {
     "name": "stdout",
     "output_type": "stream",
     "text": [
      "+-------+\n",
      "|   name|\n",
      "+-------+\n",
      "|Michael|\n",
      "|   Andy|\n",
      "| Justin|\n",
      "+-------+\n",
      "\n"
     ]
    }
   ],
   "source": [
    "# SQL can be run over DataFrames that have been registered as a table.\n",
    "results = sqlContext.sql(\"SELECT name FROM people\") \n",
    "results.show()"
   ]
  },
  {
   "cell_type": "code",
   "execution_count": null,
   "metadata": {
    "collapsed": true
   },
   "outputs": [],
   "source": []
  }
 ],
 "metadata": {
  "kernelspec": {
   "display_name": "Python 2",
   "language": "python",
   "name": "python2"
  },
  "language_info": {
   "codemirror_mode": {
    "name": "ipython",
    "version": 2
   },
   "file_extension": ".py",
   "mimetype": "text/x-python",
   "name": "python",
   "nbconvert_exporter": "python",
   "pygments_lexer": "ipython2",
   "version": "2.7.13"
  }
 },
 "nbformat": 4,
 "nbformat_minor": 0
}
