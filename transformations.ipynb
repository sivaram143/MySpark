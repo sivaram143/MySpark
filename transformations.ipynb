{
 "cells": [
  {
   "cell_type": "markdown",
   "metadata": {},
   "source": [
    "# RDD Operations"
   ]
  },
  {
   "cell_type": "markdown",
   "metadata": {},
   "source": [
    "## Transformations"
   ]
  },
  {
   "cell_type": "markdown",
   "metadata": {},
   "source": [
    "### filter"
   ]
  },
  {
   "cell_type": "code",
   "execution_count": 2,
   "metadata": {
    "collapsed": true
   },
   "outputs": [],
   "source": [
    "a = sc.parallelize(range(1,10))"
   ]
  },
  {
   "cell_type": "code",
   "execution_count": 3,
   "metadata": {
    "collapsed": true
   },
   "outputs": [],
   "source": [
    "b = a.filter(lambda x: x%2 == 0)"
   ]
  },
  {
   "cell_type": "code",
   "execution_count": 4,
   "metadata": {
    "collapsed": false
   },
   "outputs": [
    {
     "data": {
      "text/plain": [
       "[2, 4, 6, 8]"
      ]
     },
     "execution_count": 4,
     "metadata": {},
     "output_type": "execute_result"
    }
   ],
   "source": [
    "b.collect()"
   ]
  },
  {
   "cell_type": "markdown",
   "metadata": {},
   "source": [
    "### map"
   ]
  },
  {
   "cell_type": "code",
   "execution_count": 6,
   "metadata": {
    "collapsed": false
   },
   "outputs": [
    {
     "data": {
      "text/plain": [
       "[('dog', 3), ('salmon', 6), ('salmon', 6), ('rat', 3), ('elephant', 8)]"
      ]
     },
     "execution_count": 6,
     "metadata": {},
     "output_type": "execute_result"
    }
   ],
   "source": [
    "a = sc.parallelize([\"dog\", \"salmon\", \"salmon\", \"rat\", \"elephant\"]) \n",
    "b = a.map(lambda x:len(x))\n",
    "c = a.zip(b)\n",
    "c.collect()"
   ]
  },
  {
   "cell_type": "code",
   "execution_count": 8,
   "metadata": {
    "collapsed": true
   },
   "outputs": [],
   "source": [
    "### distinct"
   ]
  },
  {
   "cell_type": "code",
   "execution_count": 10,
   "metadata": {
    "collapsed": false
   },
   "outputs": [
    {
     "data": {
      "text/plain": [
       "['Rat', 'Gnu', 'Dog', 'Cat']"
      ]
     },
     "execution_count": 10,
     "metadata": {},
     "output_type": "execute_result"
    }
   ],
   "source": [
    "c = sc.parallelize([\"Gnu\", \"Cat\", \"Rat\", \"Dog\", \"Gnu\", \"Rat\"],2)\n",
    "c.distinct().collect()"
   ]
  },
  {
   "cell_type": "code",
   "execution_count": 11,
   "metadata": {
    "collapsed": true
   },
   "outputs": [],
   "source": [
    "### cartesian"
   ]
  },
  {
   "cell_type": "code",
   "execution_count": 12,
   "metadata": {
    "collapsed": false
   },
   "outputs": [
    {
     "data": {
      "text/plain": [
       "[(1, 6),\n",
       " (1, 7),\n",
       " (2, 6),\n",
       " (2, 7),\n",
       " (1, 8),\n",
       " (1, 9),\n",
       " (2, 8),\n",
       " (2, 9),\n",
       " (1, 10),\n",
       " (2, 10),\n",
       " (3, 6),\n",
       " (3, 7),\n",
       " (4, 6),\n",
       " (4, 7),\n",
       " (5, 6),\n",
       " (5, 7),\n",
       " (3, 8),\n",
       " (3, 9),\n",
       " (4, 8),\n",
       " (4, 9),\n",
       " (3, 10),\n",
       " (4, 10),\n",
       " (5, 8),\n",
       " (5, 9),\n",
       " (5, 10)]"
      ]
     },
     "execution_count": 12,
     "metadata": {},
     "output_type": "execute_result"
    }
   ],
   "source": [
    "x = sc.parallelize([1,2,3,4,5])\n",
    "y = sc.parallelize([6,7,8,9,10])\n",
    "x.cartesian(y).collect()"
   ]
  },
  {
   "cell_type": "code",
   "execution_count": null,
   "metadata": {
    "collapsed": true
   },
   "outputs": [],
   "source": [
    "### coalesce\n",
    "- Decrease the number of partitions in the RDD to numPartitions.\n",
    "- Useful for running operations more efficiently after filtering down a large dataset"
   ]
  },
  {
   "cell_type": "code",
   "execution_count": 16,
   "metadata": {
    "collapsed": false
   },
   "outputs": [
    {
     "data": {
      "text/plain": [
       "2"
      ]
     },
     "execution_count": 16,
     "metadata": {},
     "output_type": "execute_result"
    }
   ],
   "source": [
    "y = sc.parallelize(range(1,10), 10)\n",
    "z = y.coalesce(2, False) \n",
    "z.glom().collect()\n",
    "z.getNumPartitions()"
   ]
  },
  {
   "cell_type": "code",
   "execution_count": 18,
   "metadata": {
    "collapsed": true
   },
   "outputs": [],
   "source": [
    "### flatMap"
   ]
  },
  {
   "cell_type": "code",
   "execution_count": 19,
   "metadata": {
    "collapsed": false
   },
   "outputs": [
    {
     "data": {
      "text/plain": [
       "[1,\n",
       " 1,\n",
       " 2,\n",
       " 1,\n",
       " 2,\n",
       " 3,\n",
       " 1,\n",
       " 2,\n",
       " 3,\n",
       " 4,\n",
       " 1,\n",
       " 2,\n",
       " 3,\n",
       " 4,\n",
       " 5,\n",
       " 1,\n",
       " 2,\n",
       " 3,\n",
       " 4,\n",
       " 5,\n",
       " 6,\n",
       " 1,\n",
       " 2,\n",
       " 3,\n",
       " 4,\n",
       " 5,\n",
       " 6,\n",
       " 7,\n",
       " 1,\n",
       " 2,\n",
       " 3,\n",
       " 4,\n",
       " 5,\n",
       " 6,\n",
       " 7,\n",
       " 8]"
      ]
     },
     "execution_count": 19,
     "metadata": {},
     "output_type": "execute_result"
    }
   ],
   "source": [
    "a = sc.parallelize(range(1,10), 5) \n",
    "a.flatMap(lambda x: range(1, x)).collect()"
   ]
  },
  {
   "cell_type": "code",
   "execution_count": 21,
   "metadata": {
    "collapsed": false
   },
   "outputs": [
    {
     "data": {
      "text/plain": [
       "[1, 1, 1, 2, 2, 2, 3, 3, 3]"
      ]
     },
     "execution_count": 21,
     "metadata": {},
     "output_type": "execute_result"
    }
   ],
   "source": [
    "b = sc.parallelize([1, 2, 3], 2).flatMap(lambda x: [x, x, x])\n",
    "b.collect()"
   ]
  },
  {
   "cell_type": "code",
   "execution_count": 22,
   "metadata": {
    "collapsed": false
   },
   "outputs": [
    {
     "data": {
      "text/plain": [
       "'hello'"
      ]
     },
     "execution_count": 22,
     "metadata": {},
     "output_type": "execute_result"
    }
   ],
   "source": [
    "lines = sc.parallelize([\"hello world\", \"hi\"])\n",
    "words = lines.flatMap(lambda line: line.split(\" \"))\n",
    "words.first()"
   ]
  },
  {
   "cell_type": "code",
   "execution_count": null,
   "metadata": {
    "collapsed": true
   },
   "outputs": [],
   "source": [
    "### groupBy"
   ]
  },
  {
   "cell_type": "code",
   "execution_count": 23,
   "metadata": {
    "collapsed": false
   },
   "outputs": [
    {
     "data": {
      "text/plain": [
       "[(0, [2, 8]), (1, [1, 1, 3, 5])]"
      ]
     },
     "execution_count": 23,
     "metadata": {},
     "output_type": "execute_result"
    }
   ],
   "source": [
    "rdd = sc.parallelize([1, 1, 2, 3, 5, 8]) \n",
    "result = rdd.groupBy(lambda x: x % 2).collect() \n",
    "sorted([(x, sorted(y)) for (x, y) in result])"
   ]
  },
  {
   "cell_type": "code",
   "execution_count": 24,
   "metadata": {
    "collapsed": true
   },
   "outputs": [],
   "source": [
    "### keys"
   ]
  },
  {
   "cell_type": "code",
   "execution_count": 25,
   "metadata": {
    "collapsed": false
   },
   "outputs": [
    {
     "data": {
      "text/plain": [
       "[3, 5, 4, 3, 7, 5]"
      ]
     },
     "execution_count": 25,
     "metadata": {},
     "output_type": "execute_result"
    }
   ],
   "source": [
    "a = sc.parallelize([\"dog\", \"tiger\", \"lion\", \"cat\", \"panther\", \"eagle\"], 2) \n",
    "b = a.map(lambda x : (len(x), x))\n",
    "b.keys().collect()"
   ]
  },
  {
   "cell_type": "code",
   "execution_count": 26,
   "metadata": {
    "collapsed": true
   },
   "outputs": [],
   "source": [
    "### union"
   ]
  },
  {
   "cell_type": "code",
   "execution_count": 27,
   "metadata": {
    "collapsed": false
   },
   "outputs": [
    {
     "data": {
      "text/plain": [
       "[1, 2, 3, 4, 5, 6, 7, 8, 9, 5, 6, 7, 8, 9, 10, 11, 12, 13, 14]"
      ]
     },
     "execution_count": 27,
     "metadata": {},
     "output_type": "execute_result"
    }
   ],
   "source": [
    "seta = sc.parallelize(range(1,10)) \n",
    "setb = sc.parallelize(range(5 ,15))\n",
    "(seta.union(setb)).collect()"
   ]
  },
  {
   "cell_type": "code",
   "execution_count": null,
   "metadata": {
    "collapsed": true
   },
   "outputs": [],
   "source": [
    "### Zip"
   ]
  },
  {
   "cell_type": "code",
   "execution_count": 28,
   "metadata": {
    "collapsed": false
   },
   "outputs": [
    {
     "data": {
      "text/plain": [
       "[(1, 101),\n",
       " (2, 102),\n",
       " (3, 103),\n",
       " (4, 104),\n",
       " (5, 105),\n",
       " (6, 106),\n",
       " (7, 107),\n",
       " (8, 108),\n",
       " (9, 109),\n",
       " (10, 110),\n",
       " (11, 111),\n",
       " (12, 112),\n",
       " (13, 113),\n",
       " (14, 114),\n",
       " (15, 115),\n",
       " (16, 116),\n",
       " (17, 117),\n",
       " (18, 118),\n",
       " (19, 119),\n",
       " (20, 120),\n",
       " (21, 121),\n",
       " (22, 122),\n",
       " (23, 123),\n",
       " (24, 124),\n",
       " (25, 125),\n",
       " (26, 126),\n",
       " (27, 127),\n",
       " (28, 128),\n",
       " (29, 129),\n",
       " (30, 130),\n",
       " (31, 131),\n",
       " (32, 132),\n",
       " (33, 133),\n",
       " (34, 134),\n",
       " (35, 135),\n",
       " (36, 136),\n",
       " (37, 137),\n",
       " (38, 138),\n",
       " (39, 139),\n",
       " (40, 140),\n",
       " (41, 141),\n",
       " (42, 142),\n",
       " (43, 143),\n",
       " (44, 144),\n",
       " (45, 145),\n",
       " (46, 146),\n",
       " (47, 147),\n",
       " (48, 148),\n",
       " (49, 149),\n",
       " (50, 150),\n",
       " (51, 151),\n",
       " (52, 152),\n",
       " (53, 153),\n",
       " (54, 154),\n",
       " (55, 155),\n",
       " (56, 156),\n",
       " (57, 157),\n",
       " (58, 158),\n",
       " (59, 159),\n",
       " (60, 160),\n",
       " (61, 161),\n",
       " (62, 162),\n",
       " (63, 163),\n",
       " (64, 164),\n",
       " (65, 165),\n",
       " (66, 166),\n",
       " (67, 167),\n",
       " (68, 168),\n",
       " (69, 169),\n",
       " (70, 170),\n",
       " (71, 171),\n",
       " (72, 172),\n",
       " (73, 173),\n",
       " (74, 174),\n",
       " (75, 175),\n",
       " (76, 176),\n",
       " (77, 177),\n",
       " (78, 178),\n",
       " (79, 179),\n",
       " (80, 180),\n",
       " (81, 181),\n",
       " (82, 182),\n",
       " (83, 183),\n",
       " (84, 184),\n",
       " (85, 185),\n",
       " (86, 186),\n",
       " (87, 187),\n",
       " (88, 188),\n",
       " (89, 189),\n",
       " (90, 190),\n",
       " (91, 191),\n",
       " (92, 192),\n",
       " (93, 193),\n",
       " (94, 194),\n",
       " (95, 195),\n",
       " (96, 196),\n",
       " (97, 197),\n",
       " (98, 198),\n",
       " (99, 199)]"
      ]
     },
     "execution_count": 28,
     "metadata": {},
     "output_type": "execute_result"
    }
   ],
   "source": [
    "a = sc.parallelize(range(1 , 100), 3) \n",
    "b = sc.parallelize(range(101 , 200), 3) \n",
    "a.zip(b).collect()"
   ]
  },
  {
   "cell_type": "code",
   "execution_count": null,
   "metadata": {
    "collapsed": true
   },
   "outputs": [],
   "source": []
  }
 ],
 "metadata": {
  "kernelspec": {
   "display_name": "Python 2",
   "language": "python",
   "name": "python2"
  },
  "language_info": {
   "codemirror_mode": {
    "name": "ipython",
    "version": 2
   },
   "file_extension": ".py",
   "mimetype": "text/x-python",
   "name": "python",
   "nbconvert_exporter": "python",
   "pygments_lexer": "ipython2",
   "version": "2.7.13"
  }
 },
 "nbformat": 4,
 "nbformat_minor": 0
}
